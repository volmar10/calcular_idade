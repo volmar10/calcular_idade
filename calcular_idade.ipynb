{
  "nbformat": 4,
  "nbformat_minor": 0,
  "metadata": {
    "colab": {
      "provenance": [],
      "authorship_tag": "ABX9TyMmroWl1LS4s2TDa8odqQ4P",
      "include_colab_link": true
    },
    "kernelspec": {
      "name": "python3",
      "display_name": "Python 3"
    },
    "language_info": {
      "name": "python"
    }
  },
  "cells": [
    {
      "cell_type": "markdown",
      "metadata": {
        "id": "view-in-github",
        "colab_type": "text"
      },
      "source": [
        "<a href=\"https://colab.research.google.com/github/volmar10/calcular_idade/blob/main/calcular_idade.ipynb\" target=\"_parent\"><img src=\"https://colab.research.google.com/assets/colab-badge.svg\" alt=\"Open In Colab\"/></a>"
      ]
    },
    {
      "cell_type": "code",
      "execution_count": 1,
      "metadata": {
        "id": "4vJKLeDXWGPo",
        "colab": {
          "base_uri": "https://localhost:8080/"
        },
        "outputId": "097a3fac-e5c0-42e6-ce95-daee619a7d59"
      },
      "outputs": [
        {
          "output_type": "stream",
          "name": "stdout",
          "text": [
            "\n",
            "**************CALCULAR IDADE*************\n",
            "Digite seu nome: Paulo\n",
            "Olá Paulo\n"
          ]
        }
      ],
      "source": [
        "print('\\n**************CALCULAR IDADE*************')\n"
      ]
    }
  ]
}