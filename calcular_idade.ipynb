{
  "nbformat": 4,
  "nbformat_minor": 0,
  "metadata": {
    "colab": {
      "provenance": [],
      "authorship_tag": "ABX9TyNeb7lF8ePKzrMwj3BUPoAS",
      "include_colab_link": true
    },
    "kernelspec": {
      "name": "python3",
      "display_name": "Python 3"
    },
    "language_info": {
      "name": "python"
    }
  },
  "cells": [
    {
      "cell_type": "markdown",
      "metadata": {
        "id": "view-in-github",
        "colab_type": "text"
      },
      "source": [
        "<a href=\"https://colab.research.google.com/github/volmar10/calcular_idade/blob/main/calcular_idade.ipynb\" target=\"_parent\"><img src=\"https://colab.research.google.com/assets/colab-badge.svg\" alt=\"Open In Colab\"/></a>"
      ]
    },
    {
      "cell_type": "code",
      "execution_count": 14,
      "metadata": {
        "id": "4vJKLeDXWGPo",
        "colab": {
          "base_uri": "https://localhost:8080/"
        },
        "outputId": "3854a9e1-4e0a-4e63-8a3f-0e600adaf284"
      },
      "outputs": [
        {
          "output_type": "stream",
          "name": "stdout",
          "text": [
            "\n",
            "#####CALCULA#IDADE#####\n",
            "Nome: paulo\n",
            "\n",
            "Seja bem vindo(a) Paulo!\n",
            "1-Idade  2-Ano de nascimento\n",
            "Escolha o número correspondente a alternativa.\n",
            "\n",
            "-> 100\n",
            "\n",
            "-> 6\n",
            "\n",
            "-> 7\n",
            "\n",
            "-> g\n",
            "Digite apenas números inteiros.\n",
            "\n",
            "-> 2\n",
            "Ano atual: 2025\n",
            "Idade: 30\n",
            "Paulo, você nasceu em 1995.\n"
          ]
        }
      ],
      "source": [
        "print('\\n#####CALCULA#IDADE#####')\n",
        "nome = input('Nome: ')\n",
        "print(f'\\nSeja bem vindo(a) {nome.title()}!')\n",
        "print('1-Idade  2-Ano de nascimento')\n",
        "print('Escolha o número correspondente a alternativa.')\n",
        "escolha = 0\n",
        "while escolha==0 or (escolha!=1 and escolha!=2):\n",
        "  try:\n",
        "    escolha=int(input('\\n-> '))\n",
        "  except ValueError:\n",
        "    print('Digite apenas números inteiros.')\n",
        "\n",
        "if escolha==1:\n",
        "  ano_atual = int(input('Ano atual: '))\n",
        "  ano_nascimento = int(input('Ano nascimento: '))\n",
        "  idade = ano_atual-ano_nascimento\n",
        "  print(f'{nome.title()}, você tem {idade} anos de idade.')\n",
        "elif escolha==2:\n",
        "  ano_atual = int(input('Ano atual: '))\n",
        "  idade = int(input('Idade: '))\n",
        "  ano_nascimento = ano_atual-idade\n",
        "  print(f'{nome.title()}, você nasceu em {ano_nascimento}.')\n",
        "else:\n",
        "  print('Opção inválida!')\n",
        "\n"
      ]
    }
  ]
}